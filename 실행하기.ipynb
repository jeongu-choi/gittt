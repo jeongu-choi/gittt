{
 "cells": [
  {
   "cell_type": "code",
   "execution_count": 4,
   "id": "6486bd95-6950-461a-a9a3-c7d05b0e49b7",
   "metadata": {},
   "source": [
    "import sys\n",
    "from PySide6.QtWidgets import QApplication, QMainWindow\n",
    "from apple import Ui_MainWindow  # 생성된 파이썬 파일의 이름에 따라 import 구문이 달라질 수 있습니다.\n",
    "\n",
    "class MainWindow(QMainWindow):\n",
    "    def __init__(self):\n",
    "        super().__init__()\n",
    "        self.ui = Ui_MainWindow()\n",
    "        self.ui.setupUi(self)\n",
    "\n",
    "if __name__ == \"__main__\":\n",
    "    app = QApplication(sys.argv)\n",
    "    window = MainWindow()\n",
    "    window.show()\n",
    "    sys.exit(app.exec())\n"
   ],
   "outputs": []
  },
  {
   "cell_type": "code",
   "execution_count": null,
   "id": "db321e39-1b21-4f7a-934b-82a28cc90159",
   "metadata": {},
   "source": [],
   "outputs": []
  }
 ],
 "metadata": {
  "kernelspec": {
   "display_name": "Python 3 (ipykernel)",
   "language": "python",
   "name": "python3"
  },
  "language_info": {
   "codemirror_mode": {
    "name": "ipython",
    "version": 3
   },
   "file_extension": ".py",
   "mimetype": "text/x-python",
   "name": "python",
   "nbconvert_exporter": "python",
   "pygments_lexer": "ipython3",
   "version": "3.11.7"
  }
 },
 "nbformat": 4,
 "nbformat_minor": 5
}
